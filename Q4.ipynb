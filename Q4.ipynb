{
  "nbformat": 4,
  "nbformat_minor": 0,
  "metadata": {
    "colab": {
      "name": "Q4.ipynb",
      "provenance": [],
      "collapsed_sections": []
    },
    "kernelspec": {
      "name": "python3",
      "display_name": "Python 3"
    }
  },
  "cells": [
    {
      "cell_type": "code",
      "metadata": {
        "id": "nDHC2nML6eDb",
        "colab_type": "code",
        "colab": {}
      },
      "source": [
        "# Question 4\n",
        "\n",
        "# 1) (e) - All of the above\n",
        "# 2) (d) - Variable\n",
        "# 3) (b) - CNN can be applied on any 2d and 3d array of data\n",
        "# 4) (e) - All of the above\n",
        "# 5) (b) - Handle non-linearity in the network \n",
        "# 6) (a),(c),(d) - Data Dimention Reduction , Feautre extraction , Pattern recognition\n",
        "# 7) (c) - 2\n",
        "# 8) (a) - RBM cannot reduce dimensionality\n",
        "# 9) (c)\n",
        "# 10) (b)\n",
        "# 11) (b)\n"
      ],
      "execution_count": 0,
      "outputs": []
    },
    {
      "cell_type": "code",
      "metadata": {
        "id": "FDw7ark48cQG",
        "colab_type": "code",
        "colab": {}
      },
      "source": [
        ""
      ],
      "execution_count": 0,
      "outputs": []
    }
  ]
}