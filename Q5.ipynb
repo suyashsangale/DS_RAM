{
  "nbformat": 4,
  "nbformat_minor": 0,
  "metadata": {
    "colab": {
      "name": "Q5.ipynb",
      "provenance": [],
      "collapsed_sections": []
    },
    "kernelspec": {
      "name": "python3",
      "display_name": "Python 3"
    }
  },
  "cells": [
    {
      "cell_type": "code",
      "metadata": {
        "id": "Fs90LPImMhyN",
        "colab_type": "code",
        "colab": {}
      },
      "source": [
        "# Q5\n",
        "\n",
        "# 1) - a\n",
        "# 2) - d\n",
        "# 3) - b\n",
        "# 4) - c\n",
        "# 5) - b\n",
        "# 6) - a\n",
        "# 7) - c\n",
        "# 8) - c\n",
        "# 9) - c\n",
        "#10) - a"
      ],
      "execution_count": 0,
      "outputs": []
    },
    {
      "cell_type": "code",
      "metadata": {
        "id": "a0efGSboMujd",
        "colab_type": "code",
        "colab": {}
      },
      "source": [
        "\n"
      ],
      "execution_count": 0,
      "outputs": []
    }
  ]
}